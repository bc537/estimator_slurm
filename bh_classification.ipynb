{
 "cells": [
  {
   "cell_type": "code",
   "execution_count": 1,
   "metadata": {},
   "outputs": [],
   "source": [
    "import matplotlib.pyplot as plt\n",
    "import numpy as np\n",
    "import pandas as pd\n",
    "from rdkit import Chem\n",
    "from rdkit.Chem import AllChem, DataStructs\n",
    "from IPython.display import clear_output\n",
    "from qiskit import QuantumCircuit\n",
    "from qiskit.quantum_info import Statevector\n",
    "from qiskit.circuit import Parameter\n",
    "from qiskit.circuit.library import RealAmplitudes, ZZFeatureMap, TwoLocal\n",
    "from qiskit_machine_learning.optimizers import COBYLA, L_BFGS_B, SPSA\n",
    "from qiskit_machine_learning.neural_networks import EstimatorQNN\n",
    "from qiskit_machine_learning.algorithms.classifiers import NeuralNetworkClassifier\n",
    "from qiskit_machine_learning.algorithms.regressors import NeuralNetworkRegressor\n",
    "from qiskit_machine_learning.circuit.library import QNNCircuit\n",
    "from qiskit.quantum_info import Pauli, PauliList, SparsePauliOp\n",
    "from qiskit_machine_learning.optimizers import BasinHopping\n",
    "import os"
   ]
  },
  {
   "cell_type": "code",
   "execution_count": 2,
   "metadata": {},
   "outputs": [],
   "source": [
    "num_qubits = 10\n",
    "split = 5 #Select split for training and testing data\n",
    "path = '/Users/choyboy/Documents/Python/QML'\n",
    "excel_file = f'{path}/hydrocarbon_oxygen_reordered_series2.xlsx'\n",
    "df = pd.read_excel(excel_file, sheet_name='normalised_data_0_5')\n",
    "classes = df['Phase (373K)'].to_numpy()\n",
    "smiles = df['SMILES'].to_numpy()\n",
    "enthalpy = df['Boiling Point'].to_numpy()\n",
    "df_train_indices = pd.read_excel(excel_file, sheet_name='train_split', header=None).to_numpy()\n",
    "df_train_split = df_train_indices[:,split-1] - 1\n",
    "df_train_smiles = smiles[df_train_split]\n",
    "df_train_classes = classes[df_train_split]\n",
    "df_test_indices = pd.read_excel(excel_file, sheet_name='test_split', header=None).to_numpy()\n",
    "df_test_split = df_test_indices[:,split-1] - 1\n",
    "df_test_smiles = smiles[df_test_split]\n",
    "df_test_classes = classes[df_test_split]\n",
    "df_train_enthalpy = enthalpy[df_train_split]\n",
    "df_test_enthalpy = enthalpy[df_test_split]\n",
    "num_train_points = df_train_classes.shape[0]\n",
    "num_test_points = df_test_classes.shape[0]\n",
    "for i in range(num_train_points):\n",
    "    if df_train_classes[i] == 0:\n",
    "        df_train_classes[i] = -1\n",
    "for i in range(num_test_points):\n",
    "    if df_test_classes[i] == 0:\n",
    "        df_test_classes[i] = -1"
   ]
  },
  {
   "cell_type": "code",
   "execution_count": 3,
   "metadata": {},
   "outputs": [],
   "source": [
    "def coulomb_matrix(smiles: str, add_hydrogens: bool = False, bond_coupling: float = 1.0, atom_factor: float = 3.0) -> np.ndarray:\n",
    "    \"\"\"\n",
    "    Computes the adjacent Coulomb matrix for a given molecule specified by a SMILES string,\n",
    "    using specific average bond lengths for adjacent atom pairs.\n",
    "    \n",
    "    Parameters:\n",
    "    - smiles (str): The SMILES string representing the molecule.\n",
    "    - add_hydrogens (bool): Whether to add hydrogen atoms to the molecule.\n",
    "    \n",
    "    Returns:\n",
    "    - np.ndarray: The Coulomb matrix of the molecule.\n",
    "    \"\"\"\n",
    "    # Load the molecule from the SMILES string\n",
    "    molecule = Chem.MolFromSmiles(smiles)\n",
    "    \n",
    "    # Add hydrogen atoms if specified\n",
    "    if add_hydrogens == True:\n",
    "        molecule = Chem.AddHs(molecule)\n",
    "    \n",
    "    # Get the atomic numbers of the atoms\n",
    "    atomic_numbers = [atom.GetAtomicNum() for atom in molecule.GetAtoms()]\n",
    "    \n",
    "    # Number of atoms\n",
    "    num_atoms = len(atomic_numbers)\n",
    "    \n",
    "    # Initialize the Coulomb matrix\n",
    "    coulomb_matrix = np.zeros((num_atoms, num_atoms))\n",
    "    \n",
    "    # Fill in the Coulomb matrix\n",
    "    for i in range(num_atoms):\n",
    "        for j in range(num_atoms):\n",
    "            if i == j:\n",
    "                # Diagonal elements: 0.5 * Z_i^2.4\n",
    "                coulomb_matrix[i, j] = (0.5 * atomic_numbers[i] ** atom_factor) \n",
    "            else:\n",
    "                # Find the bond between atoms i and j\n",
    "                bond = molecule.GetBondBetweenAtoms(i, j)\n",
    "                if bond:\n",
    "                    bond_type = bond.GetBondType()\n",
    "                    if bond_type == Chem.rdchem.BondType.SINGLE:\n",
    "                        distance = 1\n",
    "                    elif bond_type == Chem.rdchem.BondType.DOUBLE:\n",
    "                        distance = 2\n",
    "                    elif bond_type == Chem.rdchem.BondType.TRIPLE:\n",
    "                        distance = 3\n",
    "                    elif bond_type == Chem.rdchem.BondType.AROMATIC:\n",
    "                        distance = 1.5\n",
    "                    coulomb_matrix[i, j] = (atomic_numbers[i] * atomic_numbers[j] / distance) * bond_coupling \n",
    "    \n",
    "    return coulomb_matrix"
   ]
  },
  {
   "cell_type": "code",
   "execution_count": 4,
   "metadata": {},
   "outputs": [],
   "source": [
    "def matrix_to_circuit(matrix, num_qubits, n_layers: int = 1, reverse_bits: bool = False, initial_layer: str = 'rx', entangling_layer: str = 'rzz', n_atom_to_qubit: int = 1, interleaved: str = None) -> QuantumCircuit:\n",
    "    \"\"\"\n",
    "    Converts a matrix to a QuantumCircuit object.\n",
    "    \n",
    "    Parameters:\n",
    "    - matrix (np.ndarray): The matrix to convert.\n",
    "    \n",
    "    Returns:\n",
    "    - QuantumCircuit: The QuantumCircuit object representing the matrix.\n",
    "    \"\"\"\n",
    "    # Get the number of qubits required to represent the matrix\n",
    "    matrix_size = matrix.shape[0]\n",
    "\n",
    "    # Toggle reverse bits\n",
    "    if reverse_bits == True:\n",
    "        m = np.flip(np.arange(num_qubits - matrix_size * n_atom_to_qubit, num_qubits))\n",
    "    else:\n",
    "        m = np.arange(0, matrix_size * n_atom_to_qubit)\n",
    "    \n",
    "    m = np.reshape(m, (matrix_size, n_atom_to_qubit))\n",
    "\n",
    "    # Initialize the QuantumCircuit object\n",
    "    qc = QuantumCircuit(num_qubits)\n",
    "\n",
    "    for _ in range(n_layers):\n",
    "        for i in range(matrix_size):\n",
    "            if initial_layer == 'ry':\n",
    "                for k in range(n_atom_to_qubit):\n",
    "                    qc.ry(matrix[i, i], m[i, k])\n",
    "            elif initial_layer == 'rz':\n",
    "                for k in range(n_atom_to_qubit):\n",
    "                    qc.rz(matrix[i, i], m[i, k])\n",
    "            else:\n",
    "                for k in range(n_atom_to_qubit):\n",
    "                    qc.rx(matrix[i, i], m[i, k])\n",
    "        if interleaved == 'cnot' or interleaved == 'cx':\n",
    "            for i in range(matrix_size):\n",
    "                a = m[i, :]\n",
    "                for j in range(len(a) - 1):\n",
    "                    qc.cx(a[j], a[j + 1])\n",
    "        elif interleaved == 'cz':\n",
    "            for i in range(matrix_size):\n",
    "                a = m[i, :]\n",
    "                for j in range(len(a) - 1):\n",
    "                    qc.cz(a[j], a[j + 1])\n",
    "        elif interleaved == 'rxx':\n",
    "            for i in range(matrix_size):\n",
    "                a = m[i, :]\n",
    "                for j in range(len(a) - 1):\n",
    "                    qc.rxx(matrix[i, i], a[j], a[j + 1])\n",
    "        elif interleaved == 'ryy':\n",
    "            for i in range(matrix_size):\n",
    "                a = m[i, :]\n",
    "                for j in range(len(a) - 1):\n",
    "                    qc.ryy(matrix[i, i], a[j], a[j + 1])\n",
    "        elif interleaved == 'rzz':\n",
    "            for i in range(matrix_size):\n",
    "                a = m[i, :]\n",
    "                for j in range(len(a) - 1):\n",
    "                    qc.rzz(matrix[i, i], a[j], a[j + 1])\n",
    "        for i in range(matrix_size):\n",
    "            for j in range(matrix_size):\n",
    "                if (i < j) and (matrix[i, j] != 0.0):\n",
    "                    if n_atom_to_qubit == 1:\n",
    "                        q_c = m[i]\n",
    "                        q_t = m[j]\n",
    "                        if entangling_layer == 'rxx':\n",
    "                            qc.rxx(matrix[i, j], q_c, q_t)\n",
    "                        elif entangling_layer == 'ryy':\n",
    "                            qc.ryy(matrix[i, j], q_c, q_t)\n",
    "                        else:\n",
    "                            qc.rzz(matrix[i, j], q_c, q_t)\n",
    "                    else:\n",
    "                        q_c = m[i, -1]\n",
    "                        q_t = m[j, 0]\n",
    "                        if entangling_layer == 'rxx':\n",
    "                            qc.rxx(matrix[i, j], q_c, q_t)\n",
    "                        elif entangling_layer == 'ryy':\n",
    "                            qc.ryy(matrix[i, j], q_c, q_t)\n",
    "                        else:\n",
    "                            qc.rzz(matrix[i, j], q_c, q_t)\n",
    "    \n",
    "    return qc"
   ]
  },
  {
   "cell_type": "code",
   "execution_count": 5,
   "metadata": {},
   "outputs": [],
   "source": [
    "train_circuits = []\n",
    "test_circuits = []\n",
    "initial_layer = 'ry'\n",
    "entangling_layer = 'rxx'\n",
    "feature_layers = 1\n",
    "atom_factor = 3 # 2.4 is default, however 3 is better in terms of loss \n",
    "\n",
    "for i in range(num_train_points):\n",
    "    cm_train = coulomb_matrix(df_train_smiles[i], add_hydrogens=False, atom_factor=atom_factor)\n",
    "    circuit_train = matrix_to_circuit(cm_train, num_qubits, n_layers=feature_layers, initial_layer=initial_layer, entangling_layer=entangling_layer)\n",
    "    train_circuits.append(circuit_train)\n",
    "for i in range(num_test_points):\n",
    "    cm_test = coulomb_matrix(df_test_smiles[i], add_hydrogens=False, atom_factor=atom_factor)\n",
    "    circuit_test = matrix_to_circuit(cm_test, num_qubits, n_layers=feature_layers, initial_layer=initial_layer, entangling_layer=entangling_layer)\n",
    "    test_circuits.append(circuit_test)"
   ]
  },
  {
   "cell_type": "code",
   "execution_count": null,
   "metadata": {},
   "outputs": [
    {
     "name": "stderr",
     "output_type": "stream",
     "text": [
      "/var/folders/r2/htkf_rds4gv13rqp6zvxsrkh0000gn/T/ipykernel_15066/2192827527.py:19: DeprecationWarning: V1 Primitives are deprecated as of qiskit-machine-learning 0.8.0 and will be removed no sooner than 4 months after the release date. Use V2 primitives for continued compatibility and support.\n",
      "  estimator_qnn = EstimatorQNN(circuit=ansatz, input_params=None, observables=global_operator)\n"
     ]
    }
   ],
   "source": [
    "#Variational quantum classifier\n",
    "\n",
    "ansatz_layers = 5 #Number of ansatz layers\n",
    "maxiter = 3000 #Number of iterations for the optimizer\n",
    "# global_operator = Pauli((\"Z\") * num_qubits) #Operator for the QNN\n",
    "global_operator = Pauli((\"IIIIIIIIZZ\"))\n",
    "two_local_initial_layer = 'ry' #Initial layer for the 2-local ansatz\n",
    "two_local_entangling_layer = 'crx' #Entangling layer for the 2-local ansatz\n",
    "ansatz_entanglement = 'linear' #Entanglement for the ansatz\n",
    "bh_iterations = 5 #Number of iterations for basin-hopping, basin-hopping happens every maxiter/bh_iterations steps\n",
    "max_runs = maxiter / bh_iterations\n",
    "bh_stepsize = 0.1 #Stepsize for basin-hopping\n",
    "bh_temp = 1 #Temperature for basin-hopping, if 0 then monotonic basin-hopping is carried out\n",
    "\n",
    "#Choose ansatz\n",
    "# ansatz = RealAmplitudes(num_qubits=num_qubits, entanglement=ansatz_entanglement, reps=ansatz_layers, skip_final_rotation_layer=True)\n",
    "ansatz = TwoLocal(num_qubits, two_local_initial_layer, two_local_entangling_layer, reps=ansatz_layers, entanglement=ansatz_entanglement, skip_final_rotation_layer=True)\n",
    "\n",
    "estimator_qnn = EstimatorQNN(circuit=ansatz, input_params=None, observables=global_operator)\n",
    "\n",
    "# callback function that draws a live plot when the .fit() method is called\n",
    "def callback_graph(weights, obj_func_eval):\n",
    "    clear_output(wait=True)\n",
    "    weight_vals.append(weights)\n",
    "    objective_vals.append(obj_func_eval)\n",
    "    plt.title(\"Objective function value against iteration\")\n",
    "    plt.xlabel(\"Iteration\")\n",
    "    plt.ylabel(\"Objective function value\")\n",
    "    plt.plot(range(len(objective_vals)), objective_vals)\n",
    "    plt.show()\n",
    "\n",
    "initial_point = (np.random.random(ansatz.num_parameters) - 0.5) * 2 * np.pi \n",
    "# initial_point = np.zeros(ansatz.num_parameters)\n",
    "\n",
    "#Classifier without basin-hopping\n",
    "\n",
    "estimator_classifier = NeuralNetworkClassifier(\n",
    "    estimator_qnn, optimizer=COBYLA(maxiter=maxiter), callback=callback_graph, initial_point=initial_point)\n",
    "\n",
    "#Classifier with basin-hopping\n",
    "\n",
    "# x_total = []\n",
    "# f_total = []\n",
    "# accept_total = []\n",
    "\n",
    "# # # Enable for optional step-taking\n",
    "# class MyTakeStep:\n",
    "#    def __init__(self, stepsize=0.5):\n",
    "#        self.stepsize = stepsize\n",
    "#        self.rng = np.random.default_rng()\n",
    "#    def __call__(self, x):\n",
    "#        s = self.stepsize\n",
    "#        x[0] += self.rng.uniform(-2.*s, 2.*s)\n",
    "#        x[1:] += self.rng.uniform(-s, s, x[1:].shape)\n",
    "#        return x\n",
    "   \n",
    "# mytakestep = MyTakeStep()\n",
    "\n",
    "# def bh_callback(x, f, accept):\n",
    "#     x_total.append(x)\n",
    "#     f_total.append(f)\n",
    "#     accept_total.append(accept)\n",
    "\n",
    "# opt = BasinHopping(\n",
    "#     minimizer_kwargs={\"method\": 'COBYLA', \"jac\": False, \"options\": {\"maxiter\": max_runs}},\n",
    "#     options=dict(niter=bh_iterations - 1, stepsize=bh_stepsize, callback=bh_callback, T=bh_temp)\n",
    "# )\n",
    "\n",
    "# estimator_classifier = NeuralNetworkClassifier(\n",
    "#     estimator_qnn, optimizer=opt, callback=callback_graph, initial_point=initial_point)"
   ]
  },
  {
   "cell_type": "code",
   "execution_count": 22,
   "metadata": {},
   "outputs": [
    {
     "data": {
      "image/png": "[encoded data removed]",
      "text/plain": [
       "<Figure size 1200x600 with 1 Axes>"
      ]
     },
     "metadata": {},
     "output_type": "display_data"
    },
    {
     "name": "stderr",
     "output_type": "stream",
     "text": [
      "capi_return is NULL\n",
      "Call-back cb_calcfc_in__cobyla__user__routines failed.\n",
      "Fatal Python error: F2PySwapThreadLocalCallbackPtr: F2PySwapThreadLocalCallbackPtr: PyLong_AsVoidPtr failed\n",
      "Python runtime state: initialized\n",
      "Traceback (most recent call last):\n",
      "  File \"/opt/anaconda3/envs/qc1/lib/python3.11/site-packages/scipy/optimize/_cobyla_py.py\", line 281, in calcfc\n",
      "    f = sf.fun(x)\n",
      "        ^^^^^^^^^\n",
      "  File \"/opt/anaconda3/envs/qc1/lib/python3.11/site-packages/scipy/optimize/_differentiable_functions.py\", line 325, in fun\n",
      "    self._update_fun()\n",
      "  File \"/opt/anaconda3/envs/qc1/lib/python3.11/site-packages/scipy/optimize/_differentiable_functions.py\", line 294, in _update_fun\n",
      "    fx = self._wrapped_fun(self.x)\n",
      "         ^^^^^^^^^^^^^^^^^^^^^^^^^\n",
      "  File \"/opt/anaconda3/envs/qc1/lib/python3.11/site-packages/scipy/optimize/_differentiable_functions.py\", line 20, in wrapped\n",
      "    fx = fun(np.copy(x), *args)\n",
      "         ^^^^^^^^^^^^^^^^^^^^^^\n",
      "  File \"/Users/choyboy/hc_qml/qiskit_machine_learning/algorithms/trainable_model.py\", line 271, in objective\n",
      "    objective_value = function.objective(objective_weights)\n",
      "                      ^^^^^^^^^^^^^^^^^^^^^^^^^^^^^^^^^^^^^\n",
      "  File \"/Users/choyboy/hc_qml/qiskit_machine_learning/algorithms/objective_functions.py\", line 115, in objective\n",
      "    predict = self._neural_network_forward(weights)\n",
      "              ^^^^^^^^^^^^^^^^^^^^^^^^^^^^^^^^^^^^^\n",
      "  File \"/Users/choyboy/hc_qml/qiskit_machine_learning/algorithms/objective_functions.py\", line 102, in _neural_network_forward\n",
      "    self._last_forward = self._neural_network.forward(self._X, weights)\n",
      "                         ^^^^^^^^^^^^^^^^^^^^^^^^^^^^^^^^^^^^^^^^^^^^^^\n",
      "  File \"/Users/choyboy/hc_qml/qiskit_machine_learning/neural_networks/neural_network.py\", line 395, in forward\n",
      "    output_data = self._forward(input_, weights_, input_params_)\n",
      "                  ^^^^^^^^^^^^^^^^^^^^^^^^^^^^^^^^^^^^^^^^^^^^^^\n",
      "  File \"/Users/choyboy/hc_qml/qiskit_machine_learning/neural_networks/estimator_qnn.py\", line 297, in _forward\n",
      "    results = job.result().values\n",
      "              ^^^^^^^^^^^^\n",
      "  File \"/opt/anaconda3/envs/qc1/lib/python3.11/site-packages/qiskit/primitives/primitive_job.py\", line 51, in result\n",
      "    return self._future.result()\n",
      "           ^^^^^^^^^^^^^^^^^^^^^\n",
      "  File \"/opt/anaconda3/envs/qc1/lib/python3.11/concurrent/futures/_base.py\", line 451, in result\n",
      "    self._condition.wait(timeout)\n",
      "  File \"/opt/anaconda3/envs/qc1/lib/python3.11/threading.py\", line 327, in wait\n",
      "    waiter.acquire()\n",
      "KeyboardInterrupt\n"
     ]
    },
    {
     "ename": "",
     "evalue": "",
     "output_type": "error",
     "traceback": [
      "\u001b[1;31mThe Kernel crashed while executing code in the current cell or a previous cell. \n",
      "\u001b[1;31mPlease review the code in the cell(s) to identify a possible cause of the failure. \n",
      "\u001b[1;31mClick <a href='https://aka.ms/vscodeJupyterKernelCrash'>here</a> for more info. \n",
      "\u001b[1;31mView Jupyter <a href='command:jupyter.viewOutput'>log</a> for further details."
     ]
    }
   ],
   "source": [
    "# create empty array for callback to store evaluations of the objective function\n",
    "objective_vals = []\n",
    "weight_vals = []\n",
    "plt.rcParams[\"figure.figsize\"] = (12, 6)\n",
    "\n",
    "# fit classifier to data\n",
    "estimator_classifier.fit(train_circuits, df_train_classes)\n",
    "#Replace df_train_angle with list of feature map circuits\n",
    "\n",
    "# return to default figsize\n",
    "plt.rcParams[\"figure.figsize\"] = (6, 4)\n",
    "\n",
    "# score classifier\n",
    "print('Training score=', estimator_classifier.score(train_circuits, df_train_classes))\n",
    "print('Test score=', estimator_classifier.score(test_circuits, df_test_classes))\n",
    "\n",
    "# save the classifier\n",
    "# newpath = f'/Users/choyboy/Documents/Python/QML/hc_class/bond_encoding/cobyla/{initial_layer}_{entangling_layer}_a{atom_factor}/{two_local_initial_layer}_{two_local_entangling_layer}_{ansatz_entanglement}/split{split}/a{ansatz_layers}_m{int(maxiter/1000)}k'\n",
    "# if not os.path.exists(newpath):\n",
    "#     os.makedirs(newpath)\n",
    "\n",
    "# estimator_classifier.save(f'{newpath}/qml')\n",
    "# objective_vals = np.array(objective_vals)\n",
    "# weight_vals = np.array(weight_vals)\n",
    "# np.savetxt(f\"{newpath}/objective_vals\", objective_vals)\n",
    "# np.savetxt(f\"{newpath}/weight_vals\", weight_vals)"
   ]
  },
  {
   "cell_type": "code",
   "execution_count": 17,
   "metadata": {},
   "outputs": [
    {
     "name": "stdout",
     "output_type": "stream",
     "text": [
      "Training score= 0.9166666666666666\n",
      "Test score= 0.7619047619047619\n"
     ]
    }
   ],
   "source": [
    "# If basinhopping is used, use the additional following code to locate the lowest minimum found from basin-hopping\n",
    "\n",
    "# min_ind = f_total.index(min(f_total))\n",
    "# min_x = x_total[min_ind]\n",
    "# print(f_total)\n",
    "# print(accept_total)\n",
    "# print(min_ind)\n",
    "\n",
    "min_x = weight_vals[-1]\n",
    "est = NeuralNetworkClassifier(\n",
    "    estimator_qnn, optimizer=COBYLA(maxiter=1), initial_point=min_x)\n",
    "\n",
    "est.fit(train_circuits, df_train_classes)\n",
    "print('Training score=', est.score(train_circuits, df_train_classes))\n",
    "print('Test score=', est.score(test_circuits, df_test_classes))"
   ]
  },
  {
   "cell_type": "code",
   "execution_count": 18,
   "metadata": {},
   "outputs": [
    {
     "data": {
      "text/plain": [
       "array([[ 1.],\n",
       "       [-1.],\n",
       "       [ 1.],\n",
       "       [ 1.],\n",
       "       [ 1.],\n",
       "       [ 1.],\n",
       "       [ 1.],\n",
       "       [-1.],\n",
       "       [-1.],\n",
       "       [ 1.],\n",
       "       [ 1.],\n",
       "       [ 1.],\n",
       "       [ 1.],\n",
       "       [ 1.],\n",
       "       [-1.],\n",
       "       [ 1.],\n",
       "       [-1.],\n",
       "       [-1.],\n",
       "       [-1.],\n",
       "       [ 1.],\n",
       "       [-1.]])"
      ]
     },
     "execution_count": 18,
     "metadata": {},
     "output_type": "execute_result"
    }
   ],
   "source": [
    "est.predict(test_circuits)"
   ]
  },
  {
   "cell_type": "code",
   "execution_count": 19,
   "metadata": {},
   "outputs": [
    {
     "name": "stdout",
     "output_type": "stream",
     "text": [
      "[ 1 -1  1  1  1  1  1 -1 -1  1 -1 -1  1 -1 -1 -1 -1 -1 -1 -1 -1]\n"
     ]
    }
   ],
   "source": [
    "print(df_test_classes)"
   ]
  },
  {
   "cell_type": "code",
   "execution_count": null,
   "metadata": {},
   "outputs": [
    {
     "name": "stderr",
     "output_type": "stream",
     "text": [
      "/var/folders/r2/htkf_rds4gv13rqp6zvxsrkh0000gn/T/ipykernel_92668/3984153014.py:18: DeprecationWarning: V1 Primitives are deprecated as of qiskit-machine-learning 0.8.0 and will be removed no sooner than 4 months after the release date. Use V2 primitives for continued compatibility and support.\n",
      "  estimator_qnn = EstimatorQNN(circuit=ansatz, input_params=None, observables=global_operator)\n"
     ]
    }
   ],
   "source": [
    "#Variational quantum regressor\n",
    "\n",
    "ansatz_layers = 6 #Number of ansatz layers\n",
    "maxiter = 10000 #Number of iterations for the optimizer\n",
    "# global_operator = Pauli((\"Z\") * num_qubits) #Operator for the QNN\n",
    "global_operator = Pauli((\"ZZZZZZZZZZ\"))\n",
    "two_local_initial_layer = 'ry' #Initial layer for the 2-local ansatz\n",
    "two_local_entangling_layer = 'crx' #Entangling layer for the 2-local ansatz\n",
    "ansatz_entanglement = 'pairwise' #Entanglement for the ansatz\n",
    "bh_iterations = 5 #Number of iterations for basin-hopping, basin-hopping happens every maxiter/bh_iterations steps\n",
    "max_runs = maxiter / bh_iterations\n",
    "bh_stepsize = 0.01 #Stepsize for basin-hopping\n",
    "bh_temp = 0 #Temperature for basin-hopping, if 0 then monotonic basin-hopping is carried out\n",
    "\n",
    "#Choose ansatz\n",
    "# ansatz = RealAmplitudes(num_qubits=num_qubits, entanglement=ansatz_entanglement, reps=ansatz_layers, skip_final_rotation_layer=True)\n",
    "ansatz = TwoLocal(num_qubits, two_local_initial_layer, two_local_entangling_layer, reps=ansatz_layers, entanglement=ansatz_entanglement, skip_final_rotation_layer=True)\n",
    "estimator_qnn = EstimatorQNN(circuit=ansatz, input_params=None, observables=global_operator)\n",
    "\n",
    "# callback function that draws a live plot when the .fit() method is called\n",
    "def callback_graph(weights, obj_func_eval):\n",
    "    clear_output(wait=True)\n",
    "    weight_vals.append(weights)\n",
    "    objective_vals.append(obj_func_eval)\n",
    "    plt.title(\"Objective function value against iteration\")\n",
    "    plt.xlabel(\"Iteration\")\n",
    "    plt.ylabel(\"Objective function value\")\n",
    "    plt.plot(range(len(objective_vals)), objective_vals)\n",
    "    plt.show()\n",
    "\n",
    "initial_point = (np.random.random(ansatz.num_parameters) - 0.5) * 2 * np.pi \n",
    "\n",
    "# Classifier without basin-hopping\n",
    "estimator_classifier = NeuralNetworkRegressor(\n",
    "    estimator_qnn, optimizer=COBYLA(maxiter=maxiter), callback=callback_graph, initial_point=initial_point)\n",
    "\n",
    "#Classifier with basin-hopping\n",
    "\n",
    "# x_total = []\n",
    "# f_total = []\n",
    "# accept_total = []\n",
    "\n",
    "# # #Enable for optional step-taking\n",
    "# class MyTakeStep:\n",
    "#    def __init__(self, stepsize=0.5):\n",
    "#        self.stepsize = stepsize\n",
    "#        self.rng = np.random.default_rng()\n",
    "#    def __call__(self, x):\n",
    "#        s = self.stepsize\n",
    "#        x[0] += self.rng.uniform(-2.*s, 2.*s)\n",
    "#        x[1:] += self.rng.uniform(-s, s, x[1:].shape)\n",
    "#        return x\n",
    "   \n",
    "# mytakestep = MyTakeStep()\n",
    "\n",
    "# def bh_callback(x, f, accept):\n",
    "#     x_total.append(x)\n",
    "#     f_total.append(f)\n",
    "#     accept_total.append(accept)\n",
    "\n",
    "# opt = BasinHopping(\n",
    "#     minimizer_kwargs={\"method\": 'COBYLA', \"jac\": False, \"options\": {\"maxiter\": max_runs}},\n",
    "#     options=dict(niter=bh_iterations - 1, stepsize=bh_stepsize, callback=bh_callback, T=bh_temp)\n",
    "# )\n",
    "\n",
    "# estimator_classifier = NeuralNetworkRegressor(\n",
    "#     estimator_qnn, optimizer=opt, callback=callback_graph, initial_point=initial_point)"
   ]
  },
  {
   "cell_type": "code",
   "execution_count": 11,
   "metadata": {},
   "outputs": [
    {
     "data": {
      "image/png": "[encoded data removed]",
      "text/plain": [
       "<Figure size 1200x600 with 1 Axes>"
      ]
     },
     "metadata": {},
     "output_type": "display_data"
    },
    {
     "name": "stdout",
     "output_type": "stream",
     "text": [
      "Training score= 0.9976217401660069\n",
      "Test score= 0.8654463442662976\n"
     ]
    }
   ],
   "source": [
    "# create empty array for callback to store evaluations of the objective function\n",
    "objective_vals = []\n",
    "weight_vals = []\n",
    "plt.rcParams[\"figure.figsize\"] = (12, 6)\n",
    "\n",
    "# fit classifier to data\n",
    "estimator_classifier.fit(train_circuits, df_train_enthalpy)\n",
    "#Replace df_train_angle with list of feature map circuits\n",
    "\n",
    "# return to default figsize\n",
    "plt.rcParams[\"figure.figsize\"] = (6, 4)\n",
    "\n",
    "# score classifier\n",
    "print('Training score=', estimator_classifier.score(train_circuits, df_train_enthalpy))\n",
    "print('Test score=', estimator_classifier.score(test_circuits, df_test_enthalpy))\n",
    "\n",
    "# estimator_classifier.save(f'{newpath}/a{ansatz_layers}_m{int(maxiter/1000)}k')"
   ]
  },
  {
   "cell_type": "code",
   "execution_count": 25,
   "metadata": {},
   "outputs": [],
   "source": [
    "a = estimator_classifier.weights"
   ]
  },
  {
   "cell_type": "code",
   "execution_count": 26,
   "metadata": {},
   "outputs": [],
   "source": [
    "# save the regressor\n",
    "# newpath = f'/Users/choyboy/Documents/Python/QML/hc_regressor/bond_encoding/cobyla/{initial_layer}_{entangling_layer}_a{atom_factor}/{two_local_initial_layer}_{two_local_entangling_layer}_{ansatz_entanglement}/split{split}/a{ansatz_layers}_m{int(maxiter/1000)}k'\n",
    "# if not os.path.exists(newpath):\n",
    "#     os.makedirs(newpath)\n",
    "\n",
    "# estimator_classifier.save(f'{newpath}/qml')\n",
    "# objective_vals = np.array(objective_vals)\n",
    "# weight_vals = np.array(weight_vals)\n",
    "# np.savetxt(f\"{newpath}/objective_vals\", objective_vals)\n",
    "# np.savetxt(f\"{newpath}/weight_vals\", weight_vals)"
   ]
  },
  {
   "cell_type": "code",
   "execution_count": null,
   "metadata": {},
   "outputs": [
    {
     "name": "stdout",
     "output_type": "stream",
     "text": [
      "[np.float64(0.0003722540928055419), np.float64(0.00022036320587771242), np.float64(0.00015841609657673384), np.float64(0.00011188360311897734), np.float64(8.297344008471096e-05)]\n",
      "[True, True, True, True, True]\n",
      "Training score= 0.9971097334691805\n",
      "Test score= 0.9172897237549992\n"
     ]
    }
   ],
   "source": [
    "# If basinhopping is used, use the additional following code to locate the lowest minimum found from basin-hopping\n",
    "\n",
    "min_ind = f_total.index(min(f_total))\n",
    "min_x = x_total[min_ind]\n",
    "print(f_total)\n",
    "print(accept_total)\n",
    "\n",
    "est = NeuralNetworkRegressor(\n",
    "    estimator_qnn, optimizer=COBYLA(maxiter=1), initial_point=min_x)\n",
    "\n",
    "est.fit(train_circuits, df_train_classes)\n",
    "print('Training score=', est.score(train_circuits, df_train_enthalpy))\n",
    "print('Test score=', est.score(test_circuits, df_test_enthalpy))"
   ]
  },
  {
   "cell_type": "code",
   "execution_count": 36,
   "metadata": {},
   "outputs": [
    {
     "data": {
      "text/plain": [
       "array([[-0.16348418],\n",
       "       [ 0.17328954],\n",
       "       [ 0.27287892],\n",
       "       [ 0.49206059],\n",
       "       [ 0.33509067],\n",
       "       [ 0.30399625],\n",
       "       [ 0.25059643],\n",
       "       [ 0.31878748],\n",
       "       [ 0.18931423],\n",
       "       [ 0.34950336]])"
      ]
     },
     "execution_count": 36,
     "metadata": {},
     "output_type": "execute_result"
    }
   ],
   "source": [
    "estimator_classifier.predict(test_circuits)"
   ]
  },
  {
   "cell_type": "code",
   "execution_count": 37,
   "metadata": {},
   "outputs": [
    {
     "name": "stdout",
     "output_type": "stream",
     "text": [
      "[-0.14424911  0.18602503  0.27437426  0.5         0.33164482  0.33551847\n",
      "  0.21722288  0.30721097  0.22199046  0.37753278]\n"
     ]
    }
   ],
   "source": [
    "print(df_test_enthalpy)"
   ]
  }
 ],
 "metadata": {
  "kernelspec": {
   "display_name": "qc1",
   "language": "python",
   "name": "python3"
  },
  "language_info": {
   "codemirror_mode": {
    "name": "ipython",
    "version": 3
   },
   "file_extension": ".py",
   "mimetype": "text/x-python",
   "name": "python",
   "nbconvert_exporter": "python",
   "pygments_lexer": "ipython3",
   "version": "3.11.10"
  }
 },
 "nbformat": 4,
 "nbformat_minor": 2
}
