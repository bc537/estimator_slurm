{
 "cells": [
  {
   "cell_type": "code",
   "execution_count": 1,
   "metadata": {},
   "outputs": [],
   "source": [
    "from scipy.optimize import basinhopping\n",
    "import numpy as np"
   ]
  },
  {
   "cell_type": "code",
   "execution_count": 2,
   "metadata": {},
   "outputs": [],
   "source": [
    "minimizer_kwargs = {\"method\":\"COBYLA\", \"jac\":False, \"options\":{'maxiter':200}}\n",
    "x0 = [1.0, 1.0]\n",
    "\n",
    "def func2d(x):\n",
    "    f = np.cos(14.5 * x[0] - 0.3) + (x[1] + 0.2) * x[1] + (x[0] +\n",
    "                                                           0.2) * x[0]\n",
    "    df = np.zeros(2)\n",
    "    df[0] = -14.5 * np.sin(14.5 * x[0] - 0.3) + 2. * x[0] + 0.2\n",
    "    df[1] = 2. * x[1] + 0.2\n",
    "    return f#, df\n",
    "\n",
    "# def print_fun(x, f, accepted):\n",
    "#         print(\"at minimum %.4f accepted %d\" % (f, int(accepted)), \"with coordinates\", x)"
   ]
  },
  {
   "cell_type": "code",
   "execution_count": 7,
   "metadata": {},
   "outputs": [
    {
     "name": "stdout",
     "output_type": "stream",
     "text": [
      "warning: basinhopping: local minimization failure\n",
      "basinhopping step 0: f -0.737457\n",
      "warning: basinhopping: local minimization failure\n",
      "basinhopping step 1: f -0.737457 trial_f -0.431064 accepted 0  lowest_f -0.737457\n",
      "warning: basinhopping: local minimization failure\n",
      "basinhopping step 2: f -0.737457 trial_f -0.43057 accepted 0  lowest_f -0.737457\n",
      "warning: basinhopping: local minimization failure\n",
      "basinhopping step 3: f -0.90692 trial_f -0.90692 accepted 1  lowest_f -0.737457\n",
      "warning: basinhopping: local minimization failure\n",
      "basinhopping step 4: f -0.90692 trial_f -0.904695 accepted 0  lowest_f -0.737457\n",
      "basinhopping step 5: f -0.90692 trial_f -0.431611 accepted 0  lowest_f -0.737457\n",
      "warning: basinhopping: local minimization failure\n",
      "basinhopping step 6: f -1.00877 trial_f -1.00877 accepted 1  lowest_f -0.737457\n",
      "warning: basinhopping: local minimization failure\n",
      "basinhopping step 7: f -1.00877 trial_f -0.737544 accepted 0  lowest_f -0.737457\n",
      "warning: basinhopping: local minimization failure\n",
      "basinhopping step 8: f -1.00964 trial_f -1.00964 accepted 1  lowest_f -0.737457\n",
      "warning: basinhopping: local minimization failure\n",
      "basinhopping step 9: f -1.00964 trial_f -0.43033 accepted 0  lowest_f -0.737457\n",
      "warning: basinhopping: local minimization failure\n",
      "basinhopping step 10: f -1.00964 trial_f -0.73863 accepted 0  lowest_f -0.737457\n"
     ]
    },
    {
     "data": {
      "text/plain": [
       " message: Maximum number of function evaluations has been exceeded.\n",
       " success: False\n",
       "  status: 2\n",
       "     fun: -0.7374566068964459\n",
       "       x: [-6.247e-01 -2.920e-02]\n",
       "    nfev: 200\n",
       "   maxcv: 0.0"
      ]
     },
     "execution_count": 7,
     "metadata": {},
     "output_type": "execute_result"
    }
   ],
   "source": [
    "rng = np.random.default_rng()\n",
    "# x_total = []\n",
    "# f_total = []\n",
    "ret = basinhopping(func2d, x0, minimizer_kwargs=minimizer_kwargs,\n",
    "                   niter=10, seed=rng, T=0, disp=True)\n",
    "\n",
    "ret.lowest_optimization_result"
   ]
  },
  {
   "cell_type": "code",
   "execution_count": 679,
   "metadata": {},
   "outputs": [
    {
     "name": "stdout",
     "output_type": "stream",
     "text": [
      "-1.0048350418953687\n",
      "[-0.19515501 -0.02228043]\n"
     ]
    }
   ],
   "source": [
    "print(min(f_total))\n",
    "ind = f_total.index(min(f_total))\n",
    "print(x_total[ind])"
   ]
  },
  {
   "cell_type": "code",
   "execution_count": 689,
   "metadata": {},
   "outputs": [
    {
     "data": {
      "text/plain": [
       "'1.14.1'"
      ]
     },
     "execution_count": 689,
     "metadata": {},
     "output_type": "execute_result"
    }
   ],
   "source": [
    "scipy.__version__"
   ]
  }
 ],
 "metadata": {
  "kernelspec": {
   "display_name": "qc_scipy",
   "language": "python",
   "name": "python3"
  },
  "language_info": {
   "codemirror_mode": {
    "name": "ipython",
    "version": 3
   },
   "file_extension": ".py",
   "mimetype": "text/x-python",
   "name": "python",
   "nbconvert_exporter": "python",
   "pygments_lexer": "ipython3",
   "version": "3.13.1"
  }
 },
 "nbformat": 4,
 "nbformat_minor": 2
}
